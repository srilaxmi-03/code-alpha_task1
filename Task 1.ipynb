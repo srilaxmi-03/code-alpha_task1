{
 "cells": [
  {
   "cell_type": "markdown",
   "id": "6af82ff5",
   "metadata": {},
   "source": [
    "# Hangman Game"
   ]
  },
  {
   "cell_type": "code",
   "execution_count": null,
   "id": "4d5fd77f",
   "metadata": {},
   "outputs": [],
   "source": [
    "import random\n",
    "\n",
    "def hangman():\n",
    "    \n",
    "    words = [\"python\", \"hangman\", \"program\", \"developer\", \"internship\"]\n",
    "    word = random.choice(words)  \n",
    "    guessed_word = [\"_\"] * len(word)  \n",
    "    guessed_letters = []  \n",
    "    attempts = 6  \n",
    "    \n",
    "    print(\"🎯 Welcome to Hangman Game!\")\n",
    "    print(\"Guess the word: \", \" \".join(guessed_word))\n",
    "    \n",
    "    while attempts > 0 and \"_\" in guessed_word:\n",
    "        guess = input(\"\\nEnter a letter: \").lower()\n",
    "        \n",
    "        if len(guess) != 1 or not guess.isalpha():\n",
    "            print(\"⚠️ Please enter a single alphabet.\")\n",
    "            continue\n",
    "        \n",
    "        if guess in guessed_letters:\n",
    "            print(\"❗ You already guessed that letter.\")\n",
    "            continue\n",
    "        \n",
    "        guessed_letters.append(guess)\n",
    "        \n",
    "        if guess in word:\n",
    "            print(\"✅ Good guess!\")\n",
    "            for i in range(len(word)):\n",
    "                if word[i] == guess:\n",
    "                    guessed_word[i] = guess\n",
    "        else:\n",
    "            attempts -= 1\n",
    "            print(f\"❌ Wrong guess! Attempts left: {attempts}\")\n",
    "        \n",
    "        print(\"Word: \", \" \".join(guessed_word))\n",
    "        print(\"Guessed Letters: \", \", \".join(guessed_letters))\n",
    "    \n",
    "    if \"_\" not in guessed_word:\n",
    "        print(\"\\n🎉 Congratulations! You guessed the word:\", word)\n",
    "    else:\n",
    "        print(\"\\n💀 Game Over! The word was:\", word)\n",
    "\n",
    "\n",
    "hangman()\n"
   ]
  }
 ],
 "metadata": {
  "kernelspec": {
   "display_name": "Python 3",
   "language": "python",
   "name": "python3"
  },
  "language_info": {
   "codemirror_mode": {
    "name": "ipython",
    "version": 3
   },
   "file_extension": ".py",
   "mimetype": "text/x-python",
   "name": "python",
   "nbconvert_exporter": "python",
   "pygments_lexer": "ipython3",
   "version": "3.13.5"
  }
 },
 "nbformat": 4,
 "nbformat_minor": 5
}
